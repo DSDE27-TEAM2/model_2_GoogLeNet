{
 "cells": [
  {
   "attachments": {},
   "cell_type": "markdown",
   "metadata": {},
   "source": [
    "# GOOGLENET "
   ]
  },
  {
   "cell_type": "code",
   "execution_count": 1,
   "metadata": {},
   "outputs": [],
   "source": [
    "import os\n",
    "import cv2\n",
    "import numpy as np\n",
    "from tensorflow.keras.models import Model\n",
    "from tensorflow.keras.layers import Conv2D, MaxPooling2D, Dropout, Flatten, Dense, Input, concatenate\n",
    "from tensorflow.keras.optimizers.legacy import Adam\n",
    "from tensorflow.keras.utils import to_categorical\n",
    "from sklearn.model_selection import train_test_split\n",
    "\n",
    "from PIL import Image\n"
   ]
  },
  {
   "cell_type": "code",
   "execution_count": 2,
   "metadata": {},
   "outputs": [],
   "source": [
    "# 데이터 전처리 (이미지 사이즈 변경)\n",
    "# 하나의 이미지를 전처리 할 때 사용 \n",
    "def preprocess_image(image_path, img_width, img_height):\n",
    "    img = cv2.imread(image_path)\n",
    "    img = cv2.resize(img, (img_width, img_height))\n",
    "    img = img.astype('float32') / 255.0 # 픽셀 값 [0,1] 사이로 정규화 \n",
    "    return img\n",
    "\n",
    "# def preprocess_image(image_path, img_width, img_height):\n",
    "#     try:\n",
    "#         img = Image.open(image_path)\n",
    "#         img = img.resize((img_width, img_height))\n",
    "#         img = np.array(img)\n",
    "#         return img\n",
    "#     except Exception as e:\n",
    "#         print(f\"Error processing {image_path}: {e}\")\n",
    "#         return None\n",
    "\n"
   ]
  },
  {
   "cell_type": "code",
   "execution_count": 3,
   "metadata": {},
   "outputs": [],
   "source": [
    "# datasets 안에 있는 감정이름으로 된 subdirectory 안에 있는 이미지 불러오기 \n",
    "def load_dataset(data_dir, img_width, img_height):\n",
    "    X = []\n",
    "    y = []\n",
    "\n",
    "    emotion_classes = sorted(os.listdir(data_dir))\n",
    "    for i, emotion in enumerate(emotion_classes):\n",
    "        emotion_dir = os.path.join(data_dir, emotion)\n",
    "\n",
    "        if os.path.isdir(emotion_dir):\n",
    "            for image_name in os.listdir(emotion_dir):\n",
    "                image_path = os.path.join(emotion_dir, image_name)\n",
    "                try:\n",
    "                    img = preprocess_image(image_path, img_width, img_height) # 이미지 전처리 \n",
    "                    X.append(img) # 전처리된 이미지 어레이에 넣기\n",
    "                    y.append(i) # 해당 이미지의 감정 라벨(ex. happy, neutral) 어레이에 넣기 \n",
    "                except Exception as e:\n",
    "                    print(f\"Error: {e}, Skipping image: {image_path}\") \n",
    "\n",
    "    X = np.array(X)\n",
    "    y = np.array(y)\n",
    "    y = to_categorical(y, num_classes=len(emotion_classes)) # categorical_crossentropy (원핫 인코딩으로 분류를 하기 위함)\n",
    "    return X, y\n"
   ]
  },
  {
   "cell_type": "code",
   "execution_count": 4,
   "metadata": {},
   "outputs": [],
   "source": [
    "\n",
    "from tensorflow.keras.layers import Concatenate\n",
    "\n",
    "def inception_module(x, base_channels=32): \n",
    "    a = Conv2D(base_channels*2, 1, 1, activation='relu')(x)\n",
    "\n",
    "    b_1 = Conv2D(base_channels*4, 1, 1, activation='relu')(x) # 차원축소 \n",
    "    b_2 = Conv2D(base_channels*4, 3, 1, padding='same', activation='relu')(b_1)\n",
    "\n",
    "    c_1 = Conv2D(base_channels, 1, 1, activation='relu')(x) # 차원축소 \n",
    "    c_2 = Conv2D(base_channels, 5, 1, padding='same', activation='relu')(c_1)\n",
    "\n",
    "    d_1 = MaxPooling2D(3, 1, padding='same')(x)\n",
    "    d_2 = Conv2D(base_channels, 1, 1, activation='relu')(d_1) # 차원축소 \n",
    "\n",
    "    return Concatenate(axis=-1)([a, b_2, c_2, d_2]) \n"
   ]
  },
  {
   "attachments": {},
   "cell_type": "markdown",
   "metadata": {},
   "source": [
    "- 위 코드 설명: \n",
    "    - 구글넷은 세 갈래의 **인셉션 모듈**을 사용함. 1x1 커널으로 차원 축\n",
    "    - 1x1, 3x3, 5x5 세개의 Conv layer와 1개의 Max-pooling사용\n",
    "\n",
    "**이 모듈을 여러 개 연결해서 구글넷을 만드는 것!**"
   ]
  },
  {
   "cell_type": "code",
   "execution_count": 5,
   "metadata": {},
   "outputs": [],
   "source": [
    "# 구글넷 모델 \n",
    "def googleNet_model(input_shape, num_classes):\n",
    "    inputs = Input(shape=input_shape)\n",
    "\n",
    "    # First Convolutional layer\n",
    "    x = Conv2D(64, (7, 7), strides=(2, 2), padding='same', activation='relu')(inputs)\n",
    "    x = MaxPooling2D((3, 3), strides=(2, 2), padding='same')(x)\n",
    "\n",
    "    # First Inception module\n",
    "    x = inception_module(x, base_channels=32)\n",
    "\n",
    "    # Inception module 추가\n",
    "    x = inception_module(x, base_channels=32)\n",
    "    x = inception_module(x, base_channels=32)\n",
    "\n",
    "    # Fully Connected layers\n",
    "    x = Flatten()(x)\n",
    "    x = Dense(512, activation='relu')(x)\n",
    "    x = Dropout(0.5)(x)\n",
    "\n",
    "    # Output layer\n",
    "    outputs = Dense(num_classes, activation='softmax')(x) \n",
    "\n",
    "    model = Model(inputs=inputs, outputs=outputs)\n",
    "    return model\n"
   ]
  },
  {
   "attachments": {},
   "cell_type": "markdown",
   "metadata": {},
   "source": [
    "# GoogleNet 모델 학습 "
   ]
  },
  {
   "cell_type": "code",
   "execution_count": 6,
   "metadata": {},
   "outputs": [
    {
     "name": "stderr",
     "output_type": "stream",
     "text": [
      "Invalid SOS parameters for sequential JPEG\n",
      "Invalid SOS parameters for sequential JPEG\n",
      "Invalid SOS parameters for sequential JPEG\n",
      "Invalid SOS parameters for sequential JPEG\n",
      "Invalid SOS parameters for sequential JPEG\n"
     ]
    },
    {
     "name": "stdout",
     "output_type": "stream",
     "text": [
      "Epoch 1/10\n",
      "9/9 [==============================] - 274s 32s/step - loss: 3.8390 - accuracy: 0.1357 - val_loss: 1.9743 - val_accuracy: 0.1286\n",
      "Epoch 2/10\n",
      "9/9 [==============================] - 384s 43s/step - loss: 1.9979 - accuracy: 0.1964 - val_loss: 1.9900 - val_accuracy: 0.1143\n",
      "Epoch 3/10\n",
      "9/9 [==============================] - 233s 26s/step - loss: 1.9390 - accuracy: 0.2143 - val_loss: 1.9620 - val_accuracy: 0.1857\n",
      "Epoch 4/10\n",
      "9/9 [==============================] - 341s 40s/step - loss: 1.8711 - accuracy: 0.2286 - val_loss: 1.9338 - val_accuracy: 0.2000\n",
      "Epoch 5/10\n",
      "9/9 [==============================] - 314s 35s/step - loss: 1.7240 - accuracy: 0.3321 - val_loss: 1.8723 - val_accuracy: 0.2143\n",
      "Epoch 6/10\n",
      "9/9 [==============================] - 265s 30s/step - loss: 1.5663 - accuracy: 0.4679 - val_loss: 1.8966 - val_accuracy: 0.2286\n",
      "Epoch 7/10\n",
      "9/9 [==============================] - 360s 42s/step - loss: 1.3454 - accuracy: 0.5393 - val_loss: 1.8431 - val_accuracy: 0.2571\n",
      "Epoch 8/10\n",
      "9/9 [==============================] - 457s 51s/step - loss: 1.0840 - accuracy: 0.6893 - val_loss: 1.8460 - val_accuracy: 0.2571\n",
      "Epoch 9/10\n",
      "9/9 [==============================] - 428s 49s/step - loss: 0.8195 - accuracy: 0.7750 - val_loss: 1.8510 - val_accuracy: 0.2714\n",
      "Epoch 10/10\n",
      "9/9 [==============================] - 489s 55s/step - loss: 0.6469 - accuracy: 0.8321 - val_loss: 1.9201 - val_accuracy: 0.2571\n"
     ]
    },
    {
     "data": {
      "text/plain": [
       "<keras.src.callbacks.History at 0x28eb95660>"
      ]
     },
     "execution_count": 6,
     "metadata": {},
     "output_type": "execute_result"
    }
   ],
   "source": [
    "\n",
    "# 이미지 전처리\n",
    "data_dir = '/Users/eunjincho/Documents/workspaces/data_geeks/datasets/'\n",
    "img_width, img_height = 224, 224\n",
    "\n",
    "X, y = load_dataset(data_dir, img_width, img_height) # 224x224 사이즈로 변경 \n",
    "\n",
    "X_train, X_test, y_train, y_test = train_test_split(X, y, test_size=0.2, random_state=42)\n",
    "\n",
    "# 모델 \n",
    "model = googleNet_model((img_width, img_height, 3), len(os.listdir(data_dir)))\n",
    "\n",
    "model.compile(optimizer=Adam(learning_rate=0.0001), loss='categorical_crossentropy', metrics=['accuracy'])\n",
    "\n",
    "# 모델 학습 \n",
    "model.fit(X_train, y_train, epochs=10, batch_size=32, validation_data=(X_test, y_test))\n"
   ]
  },
  {
   "cell_type": "code",
   "execution_count": 7,
   "metadata": {},
   "outputs": [
    {
     "name": "stdout",
     "output_type": "stream",
     "text": [
      "3/3 [==============================] - 5s 1s/step - loss: 1.9201 - accuracy: 0.2571\n",
      "Test loss: 1.9200844764709473\n",
      "Test accuracy: 0.2571428716182709\n"
     ]
    }
   ],
   "source": [
    "\n",
    "# Evaluate the model\n",
    "loss, accuracy = model.evaluate(X_test, y_test)\n",
    "print(\"Test loss:\", loss)\n",
    "print(\"Test accuracy:\", accuracy)\n"
   ]
  },
  {
   "attachments": {},
   "cell_type": "markdown",
   "metadata": {},
   "source": [
    "# 하나의 이미지 분석해보기 "
   ]
  },
  {
   "cell_type": "code",
   "execution_count": 8,
   "metadata": {},
   "outputs": [
    {
     "name": "stdout",
     "output_type": "stream",
     "text": [
      "1/1 [==============================] - 1s 551ms/step\n",
      "Predicted emotion: sad\n"
     ]
    }
   ],
   "source": [
    "image_path = '/Users/eunjincho/Desktop/face1.jpeg'\n",
    "\n",
    "input_image = preprocess_image(image_path, img_width, img_height)\n",
    "input_image = np.expand_dims(input_image, axis=0) # 모델은 이미지 여러개를 입력 받도록 만들어졌는데,지금은 하나만 넣는 것이기 때문에 expand_dims \n",
    "predicted_probs = model.predict(input_image) # 감정들의 확률\n",
    "\n",
    "predicted_emotion_index = np.argmax(predicted_probs) # 가장 맞을 확률이 높은 감정의 인덱스 \n",
    "emotion_classes = sorted(os.listdir(data_dir))\n",
    "predicted_emotion = emotion_classes[predicted_emotion_index] # 인덱스에 따른 감정을 변수로 저장 \n",
    "\n",
    "print(\"Predicted emotion:\", predicted_emotion)"
   ]
  },
  {
   "cell_type": "code",
   "execution_count": 9,
   "metadata": {},
   "outputs": [
    {
     "name": "stdout",
     "output_type": "stream",
     "text": [
      "감정: .DS_Store,\t\t확률: 0.03%\n",
      "감정: anger,\t\t확률: 10.16%\n",
      "감정: disgust,\t\t확률: 10.39%\n",
      "감정: fear,\t\t확률: 7.65%\n",
      "감정: happy,\t\t확률: 1.75%\n",
      "감정: neutral,\t\t확률: 16.72%\n",
      "감정: sad,\t\t확률: 26.80%\n",
      "감정: surprise,\t\t확률: 26.49%\n"
     ]
    }
   ],
   "source": [
    "# 각 감정들의 확률 출력\n",
    "for emotion, prob in zip(emotion_classes, predicted_probs[0]):\n",
    "        percentage = prob * 100\n",
    "        print(f\"감정: {emotion},\\t\\t확률: {percentage:.2f}%\")"
   ]
  },
  {
   "cell_type": "code",
   "execution_count": null,
   "metadata": {},
   "outputs": [],
   "source": []
  }
 ],
 "metadata": {
  "kernelspec": {
   "display_name": "dsde04",
   "language": "python",
   "name": "python3"
  },
  "language_info": {
   "codemirror_mode": {
    "name": "ipython",
    "version": 3
   },
   "file_extension": ".py",
   "mimetype": "text/x-python",
   "name": "python",
   "nbconvert_exporter": "python",
   "pygments_lexer": "ipython3",
   "version": "3.10.11"
  },
  "orig_nbformat": 4
 },
 "nbformat": 4,
 "nbformat_minor": 2
}

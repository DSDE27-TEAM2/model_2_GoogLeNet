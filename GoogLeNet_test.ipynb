{
 "cells": [
  {
   "cell_type": "markdown",
   "id": "70b0195c",
   "metadata": {},
   "source": [
    "## GoogLeNet"
   ]
  },
  {
   "cell_type": "code",
   "execution_count": 1,
   "id": "d83d2294",
   "metadata": {},
   "outputs": [
    {
     "name": "stderr",
     "output_type": "stream",
     "text": [
      "/opt/homebrew/anaconda3/envs/dsde/lib/python3.11/site-packages/torchvision/models/_utils.py:208: UserWarning: The parameter 'pretrained' is deprecated since 0.13 and may be removed in the future, please use 'weights' instead.\n",
      "  warnings.warn(\n",
      "/opt/homebrew/anaconda3/envs/dsde/lib/python3.11/site-packages/torchvision/models/_utils.py:223: UserWarning: Arguments other than a weight enum or `None` for 'weights' are deprecated since 0.13 and may be removed in the future. The current behavior is equivalent to passing `weights=GoogLeNet_Weights.IMAGENET1K_V1`. You can also use `weights=GoogLeNet_Weights.DEFAULT` to get the most up-to-date weights.\n",
      "  warnings.warn(msg)\n"
     ]
    },
    {
     "name": "stdout",
     "output_type": "stream",
     "text": [
      "Finished Training\n"
     ]
    }
   ],
   "source": [
    "import torch\n",
    "import torch.nn as nn\n",
    "import torch.optim as optim\n",
    "import torchvision.transforms as transforms\n",
    "import torchvision.datasets as datasets\n",
    "from torch.utils.data import DataLoader\n",
    "from torchvision.models import googlenet\n",
    "\n",
    "# GPU 사용 설정\n",
    "device = torch.device(\"cuda\" if torch.cuda.is_available() else \"cpu\")\n",
    "\n",
    "# 데이터 전처리\n",
    "transform = transforms.Compose([\n",
    "    transforms.Resize((224, 224)),\n",
    "    transforms.ToTensor(),\n",
    "    transforms.Normalize((0.485, 0.456, 0.406), (0.229, 0.224, 0.225))\n",
    "])\n",
    "\n",
    "# 데이터셋 불러오기 #812.8MB, 359장 이미지\n",
    "train_dataset = datasets.ImageFolder(root='//Users/hairyungsung/Documents/workspaces/workspace_ds/train_face_0807', transform=transform)\n",
    "train_loader = DataLoader(train_dataset, batch_size=32, shuffle=True)\n",
    "\n",
    "# 모델 정의\n",
    "model = googlenet(pretrained=True)  # 이미 ImageNet 데이터셋으로 미리 학습된 가중치 사용\n",
    "model.fc = nn.Linear(1024, 7)  # 새로운 fully connected layer를 추가하여 클래스 수에 맞게 출력 설정\n",
    "model.to(device)\n",
    "\n",
    "# 손실 함수와 옵티마이저 정의\n",
    "criterion = nn.CrossEntropyLoss()\n",
    "optimizer = optim.SGD(model.parameters(), lr=0.001, momentum=0.9)\n",
    "\n",
    "# 모델 학습\n",
    "num_epochs = 10\n",
    "\n",
    "for epoch in range(num_epochs):\n",
    "    running_loss = 0.0\n",
    "    for i, data in enumerate(train_loader, 0):\n",
    "        inputs, labels = data[0].to(device), data[1].to(device)\n",
    "\n",
    "        optimizer.zero_grad()\n",
    "\n",
    "        outputs = model(inputs)\n",
    "        loss = criterion(outputs, labels)\n",
    "        loss.backward()\n",
    "        optimizer.step()\n",
    "\n",
    "        running_loss += loss.item()\n",
    "        if i % 100 == 99:\n",
    "            print(f\"[{epoch + 1}, {i + 1}] loss: {running_loss / 100:.3f}\")\n",
    "            running_loss = 0.0\n",
    "\n",
    "print(\"Finished Training\")\n"
   ]
  },
  {
   "cell_type": "markdown",
   "id": "1855fe58",
   "metadata": {},
   "source": [
    "## 이미지를 하나 테스트 해보자"
   ]
  },
  {
   "cell_type": "code",
   "execution_count": 11,
   "id": "a29fc4dd",
   "metadata": {},
   "outputs": [],
   "source": [
    "# 사전 훈련된 가중치를 사용하여 GoogLeNet 모델 불러오기\n",
    "model = googlenet(pretrained=True)"
   ]
  },
  {
   "cell_type": "markdown",
   "id": "06fa418a",
   "metadata": {},
   "source": [
    "## 이미지 불러오기 및 전처리"
   ]
  },
  {
   "cell_type": "code",
   "execution_count": 12,
   "id": "1ec4a580",
   "metadata": {},
   "outputs": [],
   "source": [
    "from PIL import Image as PILImage # Image 모듈 임포트 추가"
   ]
  },
  {
   "cell_type": "code",
   "execution_count": 13,
   "id": "1842c7ae",
   "metadata": {},
   "outputs": [],
   "source": [
    "# 이미지를 텐서로 변환하고 정규화하는 전처리 함수\n",
    "def preprocess_image(image_path):\n",
    "    transform = transforms.Compose([\n",
    "        transforms.Resize((224, 224)),\n",
    "        transforms.ToTensor(),\n",
    "        transforms.Normalize((0.485, 0.456, 0.406), (0.229, 0.224, 0.225))\n",
    "    ])\n",
    "    pil_image = PILImage.open(image_path)\n",
    "    image = transform(pil_image).unsqueeze(0)  # 배치 차원 추가\n",
    "    return image"
   ]
  },
  {
   "cell_type": "markdown",
   "id": "eaa78a25",
   "metadata": {},
   "source": [
    "## 이미지 테스트"
   ]
  },
  {
   "cell_type": "code",
   "execution_count": 14,
   "id": "8c18a5b7",
   "metadata": {},
   "outputs": [
    {
     "name": "stdout",
     "output_type": "stream",
     "text": [
      "전처리된 이미지 텐서 형태: torch.Size([1, 3, 224, 224])\n"
     ]
    }
   ],
   "source": [
    "# 테스트할 이미지 경로 설정\n",
    "test_image_path = '/Users/hairyungsung/Documents/workspaces/workspace_ds/train_face_0807/기쁨/test_image.jpg'\n",
    "\n",
    "# 이미지 전처리\n",
    "input_image = preprocess_image(test_image_path)\n",
    "# print(\"전처리된 이미지 텐서 형태:\", input_image.shape)\n",
    "\n"
   ]
  },
  {
   "cell_type": "code",
   "execution_count": 23,
   "id": "adf097d4",
   "metadata": {},
   "outputs": [
    {
     "ename": "IndexError",
     "evalue": "list index out of range",
     "output_type": "error",
     "traceback": [
      "\u001b[0;31m---------------------------------------------------------------------------\u001b[0m",
      "\u001b[0;31mIndexError\u001b[0m                                Traceback (most recent call last)",
      "Cell \u001b[0;32mIn[23], line 12\u001b[0m\n\u001b[1;32m     10\u001b[0m \u001b[38;5;66;03m# 클래스 인덱스에 해당하는 클래스 이름 가져오기 (데이터셋 클래스 정보가 필요)\u001b[39;00m\n\u001b[1;32m     11\u001b[0m class_names \u001b[38;5;241m=\u001b[39m [\u001b[38;5;124m'\u001b[39m\u001b[38;5;124mclass_기쁨\u001b[39m\u001b[38;5;124m'\u001b[39m, \u001b[38;5;124m'\u001b[39m\u001b[38;5;124mclass_당황\u001b[39m\u001b[38;5;124m'\u001b[39m, \u001b[38;5;124m'\u001b[39m\u001b[38;5;124mclass_분노\u001b[39m\u001b[38;5;124m'\u001b[39m, \u001b[38;5;124m'\u001b[39m\u001b[38;5;124mclass_불안\u001b[39m\u001b[38;5;124m'\u001b[39m, \u001b[38;5;124m'\u001b[39m\u001b[38;5;124mclass_상처\u001b[39m\u001b[38;5;124m'\u001b[39m, \u001b[38;5;124m'\u001b[39m\u001b[38;5;124mclass_슬픔\u001b[39m\u001b[38;5;124m'\u001b[39m, \u001b[38;5;124m'\u001b[39m\u001b[38;5;124mclass_중립\u001b[39m\u001b[38;5;124m'\u001b[39m]  \u001b[38;5;66;03m# 데이터셋의 클래스 정보\u001b[39;00m\n\u001b[0;32m---> 12\u001b[0m predicted_class_name \u001b[38;5;241m=\u001b[39m class_names[predicted_class_idx]\n\u001b[1;32m     14\u001b[0m \u001b[38;5;28mprint\u001b[39m(\u001b[38;5;124m\"\u001b[39m\u001b[38;5;124mPredicted Class:\u001b[39m\u001b[38;5;124m\"\u001b[39m, predicted_class_name)\n",
      "\u001b[0;31mIndexError\u001b[0m: list index out of range"
     ]
    }
   ],
   "source": [
    "# 모델에 이미지 전달하여 예측 수행\n",
    "model.eval()\n",
    "with torch.no_grad():\n",
    "    output = model(input_image)\n",
    "\n",
    "# 예측 결과 확인\n",
    "_, predicted_class = torch.max(output, 1)\n",
    "predicted_class_idx = predicted_class.item()\n",
    "\n",
    "# 클래스 인덱스에 해당하는 클래스 이름 가져오기 (데이터셋 클래스 정보가 필요)\n",
    "class_names = ['class_기쁨', 'class_당황', 'class_분노', 'class_불안', 'class_상처', 'class_슬픔', 'class_중립']  # 데이터셋의 클래스 정보\n",
    "predicted_class_name = class_names[predicted_class_idx]\n",
    "\n",
    "print(\"Predicted Class:\", predicted_class_name)\n"
   ]
  },
  {
   "cell_type": "markdown",
   "id": "768a3bde",
   "metadata": {},
   "source": [
    "## ---------------아래는 에러를 찾기 위한 정보 확인---------------------"
   ]
  },
  {
   "cell_type": "code",
   "execution_count": 21,
   "id": "1b138465",
   "metadata": {},
   "outputs": [],
   "source": [
    "# 클래스 정보 확인\n",
    "#class_names = train_dataset.classes\n",
    "#num_classes = len(class_names)\n",
    "\n",
    "#print(\"클래스 이름:\", class_names)\n",
    "#print(\"클래스 수:\", num_classes)"
   ]
  },
  {
   "cell_type": "code",
   "execution_count": 22,
   "id": "c0896900",
   "metadata": {},
   "outputs": [
    {
     "name": "stdout",
     "output_type": "stream",
     "text": [
      "Predicted Class Index: 424\n"
     ]
    }
   ],
   "source": [
    "# 예측된 클래스 인덱스 출력\n",
    "print(\"Predicted Class Index:\", predicted_class_idx)"
   ]
  },
  {
   "cell_type": "code",
   "execution_count": 16,
   "id": "d4037fbe",
   "metadata": {},
   "outputs": [
    {
     "name": "stdout",
     "output_type": "stream",
     "text": [
      "Predicted Class Index: 424\n"
     ]
    }
   ],
   "source": [
    "from PIL import Image\n",
    "import torch\n",
    "import torchvision.transforms as transforms\n",
    "\n",
    "\n",
    "\n",
    "# 이미지 전처리 함수\n",
    "def preprocess_image(image_path):\n",
    "    transform = transforms.Compose([\n",
    "        transforms.Resize((224, 224)),\n",
    "        transforms.ToTensor(),\n",
    "        transforms.Normalize((0.485, 0.456, 0.406), (0.229, 0.224, 0.225))\n",
    "    ])\n",
    "    pil_image = Image.open(image_path)  # Image 모듈을 PIL로 변경한 변수명 사용\n",
    "    image = transform(pil_image).unsqueeze(0)  # 배치 차원 추가\n",
    "    return image\n",
    "\n",
    "# 테스트할 이미지 경로 설정\n",
    "test_image_path = '/Users/hairyungsung/Documents/workspaces/workspace_ds/train_face_0807/기쁨/test_image.jpg'\n",
    "\n",
    "# 이미지 전처리\n",
    "input_image = preprocess_image(test_image_path)\n",
    "# print(\"전처리된 이미지 텐서 형태:\", input_image.shape)\n",
    "\n",
    "# 모델에 이미지 전달하여 예측 수행\n",
    "model.eval()\n",
    "with torch.no_grad():\n",
    "    outputs = model(input_image)\n",
    "    _, predicted_class_idx = torch.max(outputs, 1)\n",
    "\n",
    "# 클래스 인덱스에 해당하는 클래스 이름 가져오기 (데이터셋 클래스 정보가 필요)\n",
    "class_names = ['class_기쁨', 'class_당황', 'class_분노', 'class_불안', 'class_상처', 'class_슬픔', 'class_중립']  # 데이터셋의 클래스 정보\n",
    "predicted_class_idx = predicted_class_idx.item()  # Tensor를 정수값으로 변환\n",
    "\n",
    "# 예측된 클래스 인덱스 출력\n",
    "print(\"Predicted Class Index:\", predicted_class_idx)\n",
    "\n",
    "# 예측된 클래스 이름 출력\n",
    "#predicted_class_name = class_names[predicted_class_idx]\n",
    "#print(\"Predicted Class Name:\", predicted_class_name)\n"
   ]
  },
  {
   "cell_type": "code",
   "execution_count": 17,
   "id": "84c2f632",
   "metadata": {},
   "outputs": [
    {
     "name": "stdout",
     "output_type": "stream",
     "text": [
      "Predicted Class Index: 424\n"
     ]
    }
   ],
   "source": [
    "# 클래스 인덱스에 해당하는 클래스 이름 가져오기 (데이터셋 클래스 정보가 필요)\n",
    "#class_names = ['class_기쁨', 'class_당황', 'class_분노', 'class_불안', 'class_상처', 'class_슬픔', 'class_중립']  # 데이터셋의 클래스 정보\n",
    "\n",
    "# 예측된 클래스 인덱스를 정수값으로 변환\n",
    "#predicted_class_idx = int(predicted_class_idx)\n",
    "\n",
    "# predicted_class_idx 값이 음수일 경우 0으로 조정\n",
    "#predicted_class_idx = max(predicted_class_idx, 0)\n",
    "\n",
    "# predicted_class_idx 값이 class_names 리스트의 길이보다 큰 경우 마지막 인덱스로 조정\n",
    "#predicted_class_idx = min(predicted_class_idx, len(class_names) - 1)\n",
    "\n",
    "# 예측된 클래스 인덱스 출력\n",
    "print(\"Predicted Class Index:\", predicted_class_idx)\n"
   ]
  },
  {
   "cell_type": "code",
   "execution_count": null,
   "id": "d15df9e2",
   "metadata": {},
   "outputs": [],
   "source": []
  },
  {
   "cell_type": "code",
   "execution_count": null,
   "id": "c6a57621",
   "metadata": {},
   "outputs": [],
   "source": []
  }
 ],
 "metadata": {
  "kernelspec": {
   "display_name": "Python 3 (ipykernel)",
   "language": "python",
   "name": "python3"
  },
  "language_info": {
   "codemirror_mode": {
    "name": "ipython",
    "version": 3
   },
   "file_extension": ".py",
   "mimetype": "text/x-python",
   "name": "python",
   "nbconvert_exporter": "python",
   "pygments_lexer": "ipython3",
   "version": "3.11.4"
  }
 },
 "nbformat": 4,
 "nbformat_minor": 5
}
